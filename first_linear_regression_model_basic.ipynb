{
 "cells": [
  {
   "cell_type": "code",
   "execution_count": null,
   "metadata": {},
   "outputs": [],
   "source": [
    "import numpy as np"
   ]
  },
  {
   "cell_type": "code",
   "execution_count": null,
   "metadata": {},
   "outputs": [],
   "source": [
    "class MyModel:\n",
    "    def predict(self, X):\n",
    "        return X.dot(self.w)\n",
    "    \n",
    "    def fit(self, X, Y, eta, T):\n",
    "        self.w = np.random.randn(X.shape[1])  #shape/dimensions of column in X-matrix. 0-axis is row and 1-axis is column.\n",
    "        for i in range(T):\n",
    "            Y_hat = self.predict(X)\n",
    "            self.w = w - eta*X.T.dot(Y_hat - Y)\n",
    "            \n",
    "    def cost(self, X, Y):\n",
    "        Y_hate = self.predict(X)\n",
    "        return (Y_hat - Y).dot(Y_hat - Y)\n",
    "    \n",
    "    X,Y = load_dataset()\n",
    "    model = MyModel() #instance of the class which we will use\n",
    "    model.fit(X,Y)\n",
    "    \n",
    "    #this is the basic structure\n",
    "            "
   ]
  }
 ],
 "metadata": {
  "kernelspec": {
   "display_name": "Python 3",
   "language": "python",
   "name": "python3"
  },
  "language_info": {
   "codemirror_mode": {
    "name": "ipython",
    "version": 3
   },
   "file_extension": ".py",
   "mimetype": "text/x-python",
   "name": "python",
   "nbconvert_exporter": "python",
   "pygments_lexer": "ipython3",
   "version": "3.6.5"
  }
 },
 "nbformat": 4,
 "nbformat_minor": 2
}
